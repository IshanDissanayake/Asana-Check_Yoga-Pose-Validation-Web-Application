{
 "cells": [
  {
   "cell_type": "code",
   "execution_count": 54,
   "metadata": {
    "execution": {
     "iopub.execute_input": "2024-11-17T05:51:21.343427Z",
     "iopub.status.busy": "2024-11-17T05:51:21.343006Z",
     "iopub.status.idle": "2024-11-17T05:51:21.350231Z",
     "shell.execute_reply": "2024-11-17T05:51:21.349268Z",
     "shell.execute_reply.started": "2024-11-17T05:51:21.343387Z"
    },
    "trusted": true
   },
   "outputs": [],
   "source": [
    "import pandas as pd\n",
    "import numpy as np\n",
    "import tensorflow as tf\n",
    "import matplotlib.pyplot as plt\n",
    "from PIL import ImageFile\n",
    "from tensorflow.keras.preprocessing import image\n",
    "from tensorflow.keras.preprocessing.image import ImageDataGenerator\n",
    "from tensorflow.keras.models import Sequential, load_model\n",
    "from tensorflow.keras.applications import VGG19\n",
    "from tensorflow.keras.applications.vgg19 import preprocess_input\n",
    "from tensorflow.keras.layers import Dense, Flatten, Dropout\n",
    "from tensorflow.keras.optimizers import Adam\n",
    "from tensorflow.keras.callbacks import ReduceLROnPlateau\n",
    "from sklearn.metrics import accuracy_score, precision_score, recall_score, f1_score, classification_report"
   ]
  },
  {
   "cell_type": "code",
   "execution_count": 56,
   "metadata": {
    "execution": {
     "iopub.execute_input": "2024-11-17T05:51:23.871930Z",
     "iopub.status.busy": "2024-11-17T05:51:23.871550Z",
     "iopub.status.idle": "2024-11-17T05:51:23.876723Z",
     "shell.execute_reply": "2024-11-17T05:51:23.875693Z",
     "shell.execute_reply.started": "2024-11-17T05:51:23.871894Z"
    },
    "trusted": true
   },
   "outputs": [],
   "source": [
    "#to avoid corrupted files/images\n",
    "ImageFile.LOAD_TRUNCATED_IMAGES = True"
   ]
  },
  {
   "cell_type": "code",
   "execution_count": 57,
   "metadata": {
    "_cell_guid": "b1076dfc-b9ad-4769-8c92-a6c4dae69d19",
    "_uuid": "8f2839f25d086af736a60e9eeb907d3b93b6e0e5",
    "execution": {
     "iopub.execute_input": "2024-11-17T05:51:23.878304Z",
     "iopub.status.busy": "2024-11-17T05:51:23.877984Z",
     "iopub.status.idle": "2024-11-17T05:51:23.885614Z",
     "shell.execute_reply": "2024-11-17T05:51:23.884774Z",
     "shell.execute_reply.started": "2024-11-17T05:51:23.878248Z"
    },
    "trusted": true
   },
   "outputs": [],
   "source": [
    "#setting paths to train and test\n",
    "train_dir = '/kaggle/input/yoga-poses-dataset/DATASET/TRAIN'\n",
    "test_dir = '/kaggle/input/yoga-poses-dataset/DATASET/TEST'"
   ]
  },
  {
   "cell_type": "code",
   "execution_count": 58,
   "metadata": {
    "execution": {
     "iopub.execute_input": "2024-11-17T05:51:23.888108Z",
     "iopub.status.busy": "2024-11-17T05:51:23.887738Z",
     "iopub.status.idle": "2024-11-17T05:51:23.893956Z",
     "shell.execute_reply": "2024-11-17T05:51:23.893050Z",
     "shell.execute_reply.started": "2024-11-17T05:51:23.888063Z"
    },
    "trusted": true
   },
   "outputs": [],
   "source": [
    "#setup the data generator to expand the train dataset\n",
    "train_datagen = ImageDataGenerator(\n",
    "                    width_shift_range=0.1,\n",
    "                    horizontal_flip=True,\n",
    "                    rescale=1./255, \n",
    "                    validation_split=0.2\n",
    "                )\n",
    "\n",
    "test_datagen = ImageDataGenerator(\n",
    "                    rescale=1./255,  \n"
    "                )"
   ]
  },
  {
   "cell_type": "code",
   "execution_count": 59,
   "metadata": {
    "execution": {
     "iopub.execute_input": "2024-11-17T05:51:23.895677Z",
     "iopub.status.busy": "2024-11-17T05:51:23.895303Z",
     "iopub.status.idle": "2024-11-17T05:51:23.986914Z",
     "shell.execute_reply": "2024-11-17T05:51:23.986029Z",
     "shell.execute_reply.started": "2024-11-17T05:51:23.895635Z"
    },
    "trusted": true
   },
   "outputs": [
    {
     "name": "stdout",
     "output_type": "stream",
     "text": [
      "Found 866 images belonging to 5 classes.\n",
      "Found 215 images belonging to 5 classes.\n",
      "Found 470 images belonging to 5 classes.\n"
     ]
    }
   ],
   "source": [
    "#applying data generator\n",
    "train_generator = train_datagen.flow_from_directory(\n",
    "                        directory=train_dir, \n",
    "                        target_size=(224,224), \n",
    "                        color_mode='rgb', \n",
    "                        class_mode='categorical',\n",
    "                        batch_size=16, \n",
    "                        subset='training'\n",
    "                    )\n",
    "\n",
    "validation_generator = test_datagen.flow_from_directory(\n",
    "                        directory=train_dir, \n",
    "                        target_size=(224,224),\n",
    "                        color_mode='rgb', \n",
    "                        class_mode='categorical',\n",
    "                        batch_size=16,\n",
    "                        subset='validation'\n",
    "                    )\n",
    "\n",
    "test_generator = test_datagen.flow_from_directory(\n",
    "                        directory=test_dir,\n",
    "                        target_size=(224,224),\n",
    "                        color_mode='rgb', \n",
    "                        class_mode='categorical',\n",
    "                        batch_size=16,\n",
    "                        shuffle=False\n",
    "                    )"
   ]
  },
  {
   "cell_type": "code",
   "execution_count": 60,
   "metadata": {
    "execution": {
     "iopub.execute_input": "2024-11-17T05:51:23.989972Z",
     "iopub.status.busy": "2024-11-17T05:51:23.988171Z",
     "iopub.status.idle": "2024-11-17T05:51:23.994482Z",
     "shell.execute_reply": "2024-11-17T05:51:23.993562Z",
     "shell.execute_reply.started": "2024-11-17T05:51:23.989938Z"
    },
    "trusted": true
   },
   "outputs": [],
   "source": [
    "#configuring TensorFlow to use the first available GPU\n",
    "physical_devices = tf.config.experimental.list_physical_devices('GPU')\n",
    "tf.config.experimental.set_memory_growth(physical_devices[0], True)"
   ]
  },
  {
   "cell_type": "code",
   "execution_count": 61,
   "metadata": {
    "execution": {
     "iopub.execute_input": "2024-11-17T05:51:23.996223Z",
     "iopub.status.busy": "2024-11-17T05:51:23.995859Z",
     "iopub.status.idle": "2024-11-17T05:51:24.340287Z",
     "shell.execute_reply": "2024-11-17T05:51:24.339293Z",
     "shell.execute_reply.started": "2024-11-17T05:51:23.996191Z"
    },
    "trusted": true
   },
   "outputs": [],
   "source": [
    "#building the model (vgg19)\n",
    "model = Sequential()\n",
    "model.add(VGG19(include_top=False, weights='imagenet', input_shape=(224,224,3)))\n",
    "model.add(Flatten())\n",
    "model.add(Dropout(0.5))\n",
    "model.add(Dense(128, activation='relu'))\n",
    "model.add(Dropout(0.5))\n",
    "model.add(Dense(5, activation='softmax'))"
   ]
  },
  {
   "cell_type": "code",
   "execution_count": 62,
   "metadata": {
    "execution": {
     "iopub.execute_input": "2024-11-17T05:51:24.342179Z",
     "iopub.status.busy": "2024-11-17T05:51:24.341699Z",
     "iopub.status.idle": "2024-11-17T05:51:24.352161Z",
     "shell.execute_reply": "2024-11-17T05:51:24.351445Z",
     "shell.execute_reply.started": "2024-11-17T05:51:24.342105Z"
    },
    "trusted": true
   },
   "outputs": [],
   "source": [
    "#compiling model\n",
    "optimizer = Adam(learning_rate=0.00001)\n",
    "model.compile(loss='categorical_crossentropy', optimizer=optimizer, metrics=['accuracy'])"
   ]
  },
  {
   "cell_type": "code",
   "execution_count": 63,
   "metadata": {
    "execution": {
     "iopub.execute_input": "2024-11-17T05:51:24.353587Z",
     "iopub.status.busy": "2024-11-17T05:51:24.353300Z",
     "iopub.status.idle": "2024-11-17T05:54:42.954393Z",
     "shell.execute_reply": "2024-11-17T05:54:42.953530Z",
     "shell.execute_reply.started": "2024-11-17T05:51:24.353556Z"
    },
    "trusted": true
   },
   "outputs": [
    {
     "name": "stderr",
     "output_type": "stream",
     "text": [
      "/opt/conda/lib/python3.10/site-packages/PIL/Image.py:1056: UserWarning: Palette images with Transparency expressed in bytes should be converted to RGBA images\n",
      "  warnings.warn(\n"
     ]
    },
    {
     "name": "stdout",
     "output_type": "stream",
     "text": [
      "Epoch 1/10\n"
     ]
    },
    {
     "name": "stderr",
     "output_type": "stream",
     "text": [
      "/opt/conda/lib/python3.10/site-packages/keras/src/trainers/data_adapters/py_dataset_adapter.py:121: UserWarning: Your `PyDataset` class should call `super().__init__(**kwargs)` in its constructor. `**kwargs` can include `workers`, `use_multiprocessing`, `max_queue_size`. Do not pass these arguments to `fit()`, as they will be ignored.\n",
      "  self._warn_if_super_not_called()\n"
     ]
    },
    {
     "name": "stdout",
     "output_type": "stream",
     "text": [
      "\u001b[1m55/55\u001b[0m \u001b[32m━━━━━━━━━━━━━━━━━━━━\u001b[0m\u001b[37m\u001b[0m \u001b[1m31s\u001b[0m 370ms/step - accuracy: 0.1678 - loss: 2.2328 - val_accuracy: 0.4326 - val_loss: 1.4413 - learning_rate: 1.0000e-05\n",
      "Epoch 2/10\n",
      "\u001b[1m55/55\u001b[0m \u001b[32m━━━━━━━━━━━━━━━━━━━━\u001b[0m\u001b[37m\u001b[0m \u001b[1m19s\u001b[0m 296ms/step - accuracy: 0.2885 - loss: 1.6676 - val_accuracy: 0.6419 - val_loss: 1.2181 - learning_rate: 1.0000e-05\n",
      "Epoch 3/10\n",
      "\u001b[1m55/55\u001b[0m \u001b[32m━━━━━━━━━━━━━━━━━━━━\u001b[0m\u001b[37m\u001b[0m \u001b[1m18s\u001b[0m 298ms/step - accuracy: 0.3755 - loss: 1.5214 - val_accuracy: 0.7395 - val_loss: 0.8832 - learning_rate: 1.0000e-05\n",
      "Epoch 4/10\n",
      "\u001b[1m55/55\u001b[0m \u001b[32m━━━━━━━━━━━━━━━━━━━━\u001b[0m\u001b[37m\u001b[0m \u001b[1m19s\u001b[0m 306ms/step - accuracy: 0.5458 - loss: 1.1274 - val_accuracy: 0.8186 - val_loss: 0.6459 - learning_rate: 1.0000e-05\n",
      "Epoch 5/10\n",
      "\u001b[1m55/55\u001b[0m \u001b[32m━━━━━━━━━━━━━━━━━━━━\u001b[0m\u001b[37m\u001b[0m \u001b[1m19s\u001b[0m 301ms/step - accuracy: 0.6444 - loss: 0.9138 - val_accuracy: 0.9023 - val_loss: 0.4176 - learning_rate: 1.0000e-05\n",
      "Epoch 6/10\n",
      "\u001b[1m55/55\u001b[0m \u001b[32m━━━━━━━━━━━━━━━━━━━━\u001b[0m\u001b[37m\u001b[0m \u001b[1m19s\u001b[0m 305ms/step - accuracy: 0.7323 - loss: 0.7796 - val_accuracy: 0.9163 - val_loss: 0.3324 - learning_rate: 1.0000e-05\n",
      "Epoch 7/10\n",
      "\u001b[1m55/55\u001b[0m \u001b[32m━━━━━━━━━━━━━━━━━━━━\u001b[0m\u001b[37m\u001b[0m \u001b[1m18s\u001b[0m 300ms/step - accuracy: 0.7849 - loss: 0.5828 - val_accuracy: 0.9349 - val_loss: 0.2996 - learning_rate: 1.0000e-05\n",
      "Epoch 8/10\n",
      "\u001b[1m55/55\u001b[0m \u001b[32m━━━━━━━━━━━━━━━━━━━━\u001b[0m\u001b[37m\u001b[0m \u001b[1m18s\u001b[0m 287ms/step - accuracy: 0.8121 - loss: 0.5390 - val_accuracy: 0.9442 - val_loss: 0.2569 - learning_rate: 1.0000e-05\n",
      "Epoch 9/10\n",
      "\u001b[1m55/55\u001b[0m \u001b[32m━━━━━━━━━━━━━━━━━━━━\u001b[0m\u001b[37m\u001b[0m \u001b[1m18s\u001b[0m 296ms/step - accuracy: 0.8136 - loss: 0.5049 - val_accuracy: 0.9349 - val_loss: 0.2380 - learning_rate: 1.0000e-05\n",
      "Epoch 10/10\n",
      "\u001b[1m55/55\u001b[0m \u001b[32m━━━━━━━━━━━━━━━━━━━━\u001b[0m\u001b[37m\u001b[0m \u001b[1m18s\u001b[0m 295ms/step - accuracy: 0.8674 - loss: 0.3681 - val_accuracy: 0.9395 - val_loss: 0.2299 - learning_rate: 1.0000e-05\n"
     ]
    }
   ],
   "source": [
    "#training model\n",
    "reduce_lr = ReduceLROnPlateau(monitor='val_loss', factor=0.2, patience=3, verbose=1)\n",
    "epochs=10\n",
    "batch_size=16\n",
    "\n",
    "history = model.fit(train_generator, epochs=epochs, validation_data=validation_generator, batch_size=batch_size, callbacks=[reduce_lr])"
   ]
  },
  {
   "cell_type": "code",
   "execution_count": 64,
   "metadata": {
    "execution": {
     "iopub.execute_input": "2024-11-17T05:54:42.957654Z",
     "iopub.status.busy": "2024-11-17T05:54:42.957334Z",
     "iopub.status.idle": "2024-11-17T05:54:43.566909Z",
     "shell.execute_reply": "2024-11-17T05:54:43.565964Z",
     "shell.execute_reply.started": "2024-11-17T05:54:42.957621Z"
    },
    "trusted": true
   },
   "outputs": [
    {
     "data": {
      "image/png": "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",
      "text/plain": [
       "<Figure size 1400x500 with 2 Axes>"
      ]
     },
     "metadata": {},
     "output_type": "display_data"
    }
   ],
   "source": [
    "#plotting model accuray and loss\n",
    "fig, (ax1, ax2) = plt.subplots(1, 2, figsize=(14, 5))\n",
    "\n",
    "#accuracy plot\n",
    "ax1.plot(history.history['accuracy'], label='Train Accuracy')\n",
    "ax1.plot(history.history['val_accuracy'], label='Validation Accuracy')\n",
    "ax1.set_title('Accuracy: Train & Validation')\n",
    "ax1.set_xlabel('Epoch')\n",
    "ax1.set_ylabel('Accuracy')\n",
    "ax1.legend()\n",
    "\n",
    "#loss plot\n",
    "ax2.plot(history.history['loss'], label='Train Loss')\n",
    "ax2.plot(history.history['val_loss'], label='Validation Loss')\n",
    "ax2.set_title('Loss: Train & Validation')\n",
    "ax2.set_xlabel('Epoch')\n",
    "ax2.set_ylabel('Loss')\n",
    "ax2.legend()\n",
    "\n",
    "plt.tight_layout()\n",
    "plt.show()"
   ]
  },
  {
   "cell_type": "code",
   "execution_count": 65,
   "metadata": {
    "execution": {
     "iopub.execute_input": "2024-11-17T05:54:43.569040Z",
     "iopub.status.busy": "2024-11-17T05:54:43.568327Z",
     "iopub.status.idle": "2024-11-17T05:55:02.088164Z",
     "shell.execute_reply": "2024-11-17T05:55:02.087154Z",
     "shell.execute_reply.started": "2024-11-17T05:54:43.568992Z"
    },
    "trusted": true
   },
   "outputs": [
    {
     "name": "stdout",
     "output_type": "stream",
     "text": [
      "\u001b[1m55/55\u001b[0m \u001b[32m━━━━━━━━━━━━━━━━━━━━\u001b[0m\u001b[37m\u001b[0m \u001b[1m16s\u001b[0m 289ms/step - accuracy: 0.9448 - loss: 0.1987\n",
      "\u001b[1m14/14\u001b[0m \u001b[32m━━━━━━━━━━━━━━━━━━━━\u001b[0m\u001b[37m\u001b[0m \u001b[1m2s\u001b[0m 107ms/step - accuracy: 0.9368 - loss: 0.2140\n",
      "Train Accuracy: 0.9353, Validation Accuracy: 0.9395\n"
     ]
    }
   ],
   "source": [
    "#evaluating model\n",
    "train_loss, train_accuracy = model.evaluate(train_generator)\n",
    "val_loss, val_accuracy = model.evaluate(validation_generator)\n",
    "print(f'Train Accuracy: {train_accuracy:.4f}, Validation Accuracy: {val_accuracy:.4f}')"
   ]
  },
  {
   "cell_type": "code",
   "execution_count": 66,
   "metadata": {
    "execution": {
     "iopub.execute_input": "2024-11-17T05:55:02.089706Z",
     "iopub.status.busy": "2024-11-17T05:55:02.089388Z",
     "iopub.status.idle": "2024-11-17T05:55:10.782280Z",
     "shell.execute_reply": "2024-11-17T05:55:10.781461Z",
     "shell.execute_reply.started": "2024-11-17T05:55:02.089672Z"
    },
    "trusted": true
   },
   "outputs": [
    {
     "name": "stdout",
     "output_type": "stream",
     "text": [
      "\u001b[1m30/30\u001b[0m \u001b[32m━━━━━━━━━━━━━━━━━━━━\u001b[0m\u001b[37m\u001b[0m \u001b[1m8s\u001b[0m 258ms/step\n"
     ]
    }
   ],
   "source": [
    "preds = model.predict(test_generator)\n",
    "\n",
    "#convert probabilities to class indices\n",
    "pred_classes = np.argmax(preds, axis=1)  \n",
    "true_classes = test_generator.classes"
   ]
  },
  {
   "cell_type": "code",
   "execution_count": 67,
   "metadata": {
    "execution": {
     "iopub.execute_input": "2024-11-17T05:55:10.783712Z",
     "iopub.status.busy": "2024-11-17T05:55:10.783399Z",
     "iopub.status.idle": "2024-11-17T05:55:10.803864Z",
     "shell.execute_reply": "2024-11-17T05:55:10.802983Z",
     "shell.execute_reply.started": "2024-11-17T05:55:10.783679Z"
    },
    "trusted": true
   },
   "outputs": [
    {
     "name": "stdout",
     "output_type": "stream",
     "text": [
      "Accuracy: 0.9744680851063829\n",
      "Precision: 0.9747031651406363\n",
      "Recall: 0.9744680851063829\n",
      "F1 Score: 0.9743392083329722\n",
      "\n",
      "Classification Report:\n",
      "\n",
      "              precision    recall  f1-score   support\n",
      "\n",
      "           0       1.00      0.98      0.99        97\n",
      "           1       0.96      0.91      0.94        80\n",
      "           2       0.97      1.00      0.98       115\n",
      "           3       1.00      0.99      0.99        69\n",
      "           4       0.96      0.98      0.97       109\n",
      "\n",
      "    accuracy                           0.97       470\n",
      "   macro avg       0.98      0.97      0.97       470\n",
      "weighted avg       0.97      0.97      0.97       470\n",
      "\n"
     ]
    }
   ],
   "source": [
    "accuracy = accuracy_score(true_classes, pred_classes)\n",
    "precision = precision_score(true_classes, pred_classes, average='weighted') #`weighted` -> considering the number of true instances per class\n",
    "recall = recall_score(true_classes, pred_classes, average='weighted')\n",
    "f1 = f1_score(true_classes, pred_classes, average='weighted')\n",
    "\n",
    "print(\"Accuracy:\", accuracy)\n",
    "print(\"Precision:\", precision)\n",
    "print(\"Recall:\", recall)\n",
    "print(\"F1 Score:\", f1)\n",
    "\n",
    "print(\"\\nClassification Report:\\n\")\n",
    "print(classification_report(true_classes, pred_classes))"
   ]
  },
  {
   "cell_type": "code",
   "execution_count": 68,
   "metadata": {
    "execution": {
     "iopub.execute_input": "2024-11-17T05:55:10.805387Z",
     "iopub.status.busy": "2024-11-17T05:55:10.805002Z",
     "iopub.status.idle": "2024-11-17T05:55:11.242902Z",
     "shell.execute_reply": "2024-11-17T05:55:11.242069Z",
     "shell.execute_reply.started": "2024-11-17T05:55:10.805345Z"
    },
    "trusted": true
   },
   "outputs": [],
   "source": [
    "model.save('YogaPoseModel.h5')"
   ]
  }
 ],
 "metadata": {
  "kaggle": {
   "accelerator": "gpu",
   "dataSources": [
    {
     "datasetId": 920599,
     "sourceId": 1559111,
     "sourceType": "datasetVersion"
    }
   ],
   "dockerImageVersionId": 30787,
   "isGpuEnabled": true,
   "isInternetEnabled": true,
   "language": "python",
   "sourceType": "notebook"
  },
  "kernelspec": {
   "display_name": "Python 3",
   "language": "python",
   "name": "python3"
  },
  "language_info": {
   "codemirror_mode": {
    "name": "ipython",
    "version": 3
   },
   "file_extension": ".py",
   "mimetype": "text/x-python",
   "name": "python",
   "nbconvert_exporter": "python",
   "pygments_lexer": "ipython3",
   "version": "3.10.14"
  }
 },
 "nbformat": 4,
 "nbformat_minor": 4
}
